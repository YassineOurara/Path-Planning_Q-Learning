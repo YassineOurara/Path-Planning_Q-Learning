{
  "cells": [
    {
      "cell_type": "markdown",
      "metadata": {
        "id": "view-in-github",
        "colab_type": "text"
      },
      "source": [
        "<a href=\"https://colab.research.google.com/github/YassineOurara/Path-Planning_Q-Learning/blob/main/Robotique_Mini_Projet_Qlearning.ipynb\" target=\"_parent\"><img src=\"https://colab.research.google.com/assets/colab-badge.svg\" alt=\"Open In Colab\"/></a>"
      ]
    },
    {
      "cell_type": "markdown",
      "id": "014717da",
      "metadata": {
        "id": "014717da"
      },
      "source": [
        "\n",
        "\n",
        "---\n",
        "\n",
        "\n",
        "## Mini Projet Q-Learning (Mhasni Khalid & Ourara Yassine)\n",
        "\n",
        "\n",
        "---\n",
        "\n"
      ]
    },
    {
      "cell_type": "markdown",
      "source": [
        "####import libraries"
      ],
      "metadata": {
        "id": "1bf_rwLimfQd"
      },
      "id": "1bf_rwLimfQd"
    },
    {
      "cell_type": "code",
      "execution_count": null,
      "id": "b9062c35",
      "metadata": {
        "id": "b9062c35"
      },
      "outputs": [],
      "source": [
        "import numpy as np\n",
        "import math\n",
        "import matplotlib.pyplot as plt\n",
        "from matplotlib import patches\n",
        "from tabulate import tabulate"
      ]
    },
    {
      "cell_type": "code",
      "execution_count": null,
      "id": "d03827e4",
      "metadata": {
        "colab": {
          "base_uri": "https://localhost:8080/"
        },
        "id": "d03827e4",
        "outputId": "7da9dfc9-00ff-45ad-b141-f285268c3732"
      },
      "outputs": [
        {
          "output_type": "execute_result",
          "data": {
            "text/plain": [
              "array([[[0., 0., 0., 0.],\n",
              "        [0., 0., 0., 0.],\n",
              "        [0., 0., 0., 0.],\n",
              "        [0., 0., 0., 0.],\n",
              "        [0., 0., 0., 0.],\n",
              "        [0., 0., 0., 0.],\n",
              "        [0., 0., 0., 0.],\n",
              "        [0., 0., 0., 0.],\n",
              "        [0., 0., 0., 0.],\n",
              "        [0., 0., 0., 0.]],\n",
              "\n",
              "       [[0., 0., 0., 0.],\n",
              "        [0., 0., 0., 0.],\n",
              "        [0., 0., 0., 0.],\n",
              "        [0., 0., 0., 0.],\n",
              "        [0., 0., 0., 0.],\n",
              "        [0., 0., 0., 0.],\n",
              "        [0., 0., 0., 0.],\n",
              "        [0., 0., 0., 0.],\n",
              "        [0., 0., 0., 0.],\n",
              "        [0., 0., 0., 0.]],\n",
              "\n",
              "       [[0., 0., 0., 0.],\n",
              "        [0., 0., 0., 0.],\n",
              "        [0., 0., 0., 0.],\n",
              "        [0., 0., 0., 0.],\n",
              "        [0., 0., 0., 0.],\n",
              "        [0., 0., 0., 0.],\n",
              "        [0., 0., 0., 0.],\n",
              "        [0., 0., 0., 0.],\n",
              "        [0., 0., 0., 0.],\n",
              "        [0., 0., 0., 0.]],\n",
              "\n",
              "       [[0., 0., 0., 0.],\n",
              "        [0., 0., 0., 0.],\n",
              "        [0., 0., 0., 0.],\n",
              "        [0., 0., 0., 0.],\n",
              "        [0., 0., 0., 0.],\n",
              "        [0., 0., 0., 0.],\n",
              "        [0., 0., 0., 0.],\n",
              "        [0., 0., 0., 0.],\n",
              "        [0., 0., 0., 0.],\n",
              "        [0., 0., 0., 0.]],\n",
              "\n",
              "       [[0., 0., 0., 0.],\n",
              "        [0., 0., 0., 0.],\n",
              "        [0., 0., 0., 0.],\n",
              "        [0., 0., 0., 0.],\n",
              "        [0., 0., 0., 0.],\n",
              "        [0., 0., 0., 0.],\n",
              "        [0., 0., 0., 0.],\n",
              "        [0., 0., 0., 0.],\n",
              "        [0., 0., 0., 0.],\n",
              "        [0., 0., 0., 0.]],\n",
              "\n",
              "       [[0., 0., 0., 0.],\n",
              "        [0., 0., 0., 0.],\n",
              "        [0., 0., 0., 0.],\n",
              "        [0., 0., 0., 0.],\n",
              "        [0., 0., 0., 0.],\n",
              "        [0., 0., 0., 0.],\n",
              "        [0., 0., 0., 0.],\n",
              "        [0., 0., 0., 0.],\n",
              "        [0., 0., 0., 0.],\n",
              "        [0., 0., 0., 0.]],\n",
              "\n",
              "       [[0., 0., 0., 0.],\n",
              "        [0., 0., 0., 0.],\n",
              "        [0., 0., 0., 0.],\n",
              "        [0., 0., 0., 0.],\n",
              "        [0., 0., 0., 0.],\n",
              "        [0., 0., 0., 0.],\n",
              "        [0., 0., 0., 0.],\n",
              "        [0., 0., 0., 0.],\n",
              "        [0., 0., 0., 0.],\n",
              "        [0., 0., 0., 0.]],\n",
              "\n",
              "       [[0., 0., 0., 0.],\n",
              "        [0., 0., 0., 0.],\n",
              "        [0., 0., 0., 0.],\n",
              "        [0., 0., 0., 0.],\n",
              "        [0., 0., 0., 0.],\n",
              "        [0., 0., 0., 0.],\n",
              "        [0., 0., 0., 0.],\n",
              "        [0., 0., 0., 0.],\n",
              "        [0., 0., 0., 0.],\n",
              "        [0., 0., 0., 0.]],\n",
              "\n",
              "       [[0., 0., 0., 0.],\n",
              "        [0., 0., 0., 0.],\n",
              "        [0., 0., 0., 0.],\n",
              "        [0., 0., 0., 0.],\n",
              "        [0., 0., 0., 0.],\n",
              "        [0., 0., 0., 0.],\n",
              "        [0., 0., 0., 0.],\n",
              "        [0., 0., 0., 0.],\n",
              "        [0., 0., 0., 0.],\n",
              "        [0., 0., 0., 0.]],\n",
              "\n",
              "       [[0., 0., 0., 0.],\n",
              "        [0., 0., 0., 0.],\n",
              "        [0., 0., 0., 0.],\n",
              "        [0., 0., 0., 0.],\n",
              "        [0., 0., 0., 0.],\n",
              "        [0., 0., 0., 0.],\n",
              "        [0., 0., 0., 0.],\n",
              "        [0., 0., 0., 0.],\n",
              "        [0., 0., 0., 0.],\n",
              "        [0., 0., 0., 0.]]])"
            ]
          },
          "metadata": {},
          "execution_count": 2
        }
      ],
      "source": [
        "#Largeur et longueur de l'environnement\n",
        "Li = 10\n",
        "Col = 10\n",
        "# Les coordonnées de but\n",
        "x_obj = 9 \n",
        "y_obj = 9\n",
        "#la table Q est mis a zero\n",
        "Q = np.zeros((Li, Col, 4))\n",
        "Q"
      ]
    },
    {
      "cell_type": "markdown",
      "source": [
        "####Les actions"
      ],
      "metadata": {
        "id": "M6fkukd-mXtn"
      },
      "id": "M6fkukd-mXtn"
    },
    {
      "cell_type": "code",
      "execution_count": null,
      "id": "549657f3",
      "metadata": {
        "id": "549657f3"
      },
      "outputs": [],
      "source": [
        "#les actions \n",
        "actions = ['haut', 'droite', 'bas', 'gauche']"
      ]
    },
    {
      "cell_type": "markdown",
      "source": [
        "####l'environnement "
      ],
      "metadata": {
        "id": "CSQJiVDimTLc"
      },
      "id": "CSQJiVDimTLc"
    },
    {
      "cell_type": "code",
      "execution_count": null,
      "id": "d0fe064e",
      "metadata": {
        "colab": {
          "base_uri": "https://localhost:8080/"
        },
        "id": "d0fe064e",
        "outputId": "39617a0c-814d-4b8e-ead0-235b0ba8359f"
      },
      "outputs": [
        {
          "output_type": "stream",
          "name": "stdout",
          "text": [
            "|---|---|---|---|---|---|---|---|---|---|\n",
            "| 0 | 0 | 0 | 0 | 0 | 1 | 1 | 0 | 0 | 0 |\n",
            "| 0 | 0 | 0 | 0 | 0 | 0 | 0 | 0 | 0 | 0 |\n",
            "| 0 | 0 | 0 | 0 | 0 | 0 | 0 | 0 | 0 | 0 |\n",
            "| 0 | 0 | 0 | 1 | 1 | 0 | 0 | 0 | 0 | 0 |\n",
            "| 0 | 0 | 0 | 0 | 0 | 0 | 0 | 0 | 0 | 0 |\n",
            "| 0 | 0 | 0 | 0 | 0 | 0 | 0 | 0 | 0 | 0 |\n",
            "| 0 | 0 | 0 | 0 | 0 | 1 | 1 | 0 | 0 | 0 |\n",
            "| 0 | 0 | 0 | 0 | 0 | 0 | 0 | 0 | 0 | 0 |\n",
            "| 0 | 0 | 0 | 0 | 0 | 0 | 0 | 0 | 0 | 0 |\n",
            "| 0 | 0 | 0 | 0 | 0 | 0 | 0 | 0 | 0 | 0 |\n"
          ]
        }
      ],
      "source": [
        "# R matrice des zeros\n",
        "R=np.zeros((Li,Col))\n",
        "# les obstacles là où il y en a des 1\n",
        "# R[1,2]=1\n",
        "# R[3,6]=1\n",
        "# R[3,6]=1\n",
        "# R[3,4]=1\n",
        "# R[6,6]=1\n",
        "# R[8,8]=1\n",
        "\n",
        "R[0,5]=1\n",
        "R[0,6]=1\n",
        "R[3,3]=1\n",
        "R[3,4]=1\n",
        "R[6,5]=1\n",
        "R[6,6]=1\n",
        "\n",
        "plan = R.copy()\n",
        "\n",
        "print(tabulate(plan, tablefmt='github'))"
      ]
    },
    {
      "cell_type": "markdown",
      "source": [
        "####Reward"
      ],
      "metadata": {
        "id": "l8pi-Po0KJN3"
      },
      "id": "l8pi-Po0KJN3"
    },
    {
      "cell_type": "code",
      "execution_count": null,
      "id": "c23efeac",
      "metadata": {
        "id": "c23efeac"
      },
      "outputs": [],
      "source": [
        "# Reward\n",
        "for i in range(10):\n",
        "            for j in range(10):\n",
        "                if plan[i][j]==1:\n",
        "                  R[i][j]=-10\n",
        "                else:\n",
        "                    try:\n",
        "                        R[i][j]=1/math.sqrt( ((j - x_obj)**2) + ((i -y_obj)**2))\n",
        "                    except:\n",
        "                        R[i][j]=100"
      ]
    },
    {
      "cell_type": "code",
      "execution_count": null,
      "id": "9f9a7a2f",
      "metadata": {
        "scrolled": true,
        "id": "9f9a7a2f",
        "colab": {
          "base_uri": "https://localhost:8080/"
        },
        "outputId": "bbce52bf-ff5a-4572-a1a7-82f92a15e394"
      },
      "outputs": [
        {
          "output_type": "stream",
          "name": "stdout",
          "text": [
            "|------|------|------|--------|--------|--------|--------|------|------|--------|\n",
            "| 0.08 | 0.08 | 0.09 |   0.09 |   0.1  | -10    | -10    | 0.11 | 0.11 |   0.11 |\n",
            "| 0.08 | 0.09 | 0.09 |   0.1  |   0.11 |   0.11 |   0.12 | 0.12 | 0.12 |   0.12 |\n",
            "| 0.09 | 0.09 | 0.1  |   0.11 |   0.12 |   0.12 |   0.13 | 0.14 | 0.14 |   0.14 |\n",
            "| 0.09 | 0.1  | 0.11 | -10    | -10    |   0.14 |   0.15 | 0.16 | 0.16 |   0.17 |\n",
            "| 0.1  | 0.11 | 0.12 |   0.13 |   0.14 |   0.16 |   0.17 | 0.19 | 0.2  |   0.2  |\n",
            "| 0.1  | 0.11 | 0.12 |   0.14 |   0.16 |   0.18 |   0.2  | 0.22 | 0.24 |   0.25 |\n",
            "| 0.11 | 0.12 | 0.13 |   0.15 |   0.17 | -10    | -10    | 0.28 | 0.32 |   0.33 |\n",
            "| 0.11 | 0.12 | 0.14 |   0.16 |   0.19 |   0.22 |   0.28 | 0.35 | 0.45 |   0.5  |\n",
            "| 0.11 | 0.12 | 0.14 |   0.16 |   0.2  |   0.24 |   0.32 | 0.45 | 0.71 |   1    |\n",
            "| 0.11 | 0.12 | 0.14 |   0.17 |   0.2  |   0.25 |   0.33 | 0.5  | 1    | 100    |\n"
          ]
        }
      ],
      "source": [
        "R=np.round(R, 2)\n",
        "print(tabulate(R, tablefmt='github'))"
      ]
    },
    {
      "cell_type": "code",
      "execution_count": null,
      "id": "ecb7e152",
      "metadata": {
        "id": "ecb7e152"
      },
      "outputs": [],
      "source": [
        "#ligne Courante :Lic\n",
        "#colonne Courante:Colc\n",
        "#la fonction qui determine si le robot a arrivé à l'objectif \n",
        "def pointObj(Lic,Colc):\n",
        "    if R[Lic,Colc]!=100.:\n",
        "        return False\n",
        "    else:\n",
        "        return True"
      ]
    },
    {
      "cell_type": "code",
      "execution_count": null,
      "id": "7cc3e69e",
      "metadata": {
        "id": "7cc3e69e"
      },
      "outputs": [],
      "source": [
        "#fonction qui choisit un Point aleatoirement\n",
        "def pointDeDepart():\n",
        "    #choisir les cordonnées d'un point aléatoirement\n",
        "    indiceLic=np.random.randint(Li)\n",
        "    indiceColc=np.random.randint(Col)\n",
        "    #choisir des cordonnées différente de cordonnées de point objectif\n",
        "    while pointObj(indiceLic,indiceColc):\n",
        "        indiceLic=np.random.randint(Li)\n",
        "        indiceColc=np.random.randint(Li)\n",
        "    return indiceLic,indiceColc"
      ]
    },
    {
      "cell_type": "code",
      "execution_count": null,
      "id": "91f20e59",
      "metadata": {
        "id": "91f20e59"
      },
      "outputs": [],
      "source": [
        "#choisir l'action à effectuer\n",
        "def actionSuivante(indiceLic,indiceColc,epsilon):\n",
        "    if np.random.random() < epsilon:\n",
        "        return np.argmax(Q[indiceLic,indiceColc])\n",
        "    else:\n",
        "        return np.random.randint(4)\n",
        "        "
      ]
    },
    {
      "cell_type": "code",
      "execution_count": null,
      "id": "9ef45a5b",
      "metadata": {
        "id": "9ef45a5b"
      },
      "outputs": [],
      "source": [
        "\n",
        "#trouver la position suivante \n",
        "def positionSuivante(indiceLigneCourante,indiceColonneCourante,indiceAction):\n",
        "\n",
        "    indiceLigne=indiceLigneCourante\n",
        "    indiceColonne=indiceColonneCourante\n",
        "\n",
        "    if actions[indiceAction]=='haut' and indiceLigneCourante >0:\n",
        "        indiceLigne-=1\n",
        "\n",
        "    elif actions[indiceAction]=='droite' and indiceColonneCourante < Col-1 :\n",
        "        indiceColonne+=1\n",
        "\n",
        "    elif actions[indiceAction]=='bas' and indiceLigneCourante < Li-1:\n",
        "        indiceLigne+=1\n",
        "\n",
        "    elif actions[indiceAction]=='gauche' and indiceColonneCourante >0:\n",
        "        indiceColonne-=1\n",
        "        \n",
        "    return indiceLigne,indiceColonne"
      ]
    },
    {
      "cell_type": "code",
      "execution_count": null,
      "id": "d7cf496d",
      "metadata": {
        "id": "d7cf496d"
      },
      "outputs": [],
      "source": [
        "#fonction pour définir le plus court chemin\n",
        "def courtChemin(ligneDepart,colonneDepart):\n",
        "    #verifie si l'agent déja dans le goal\n",
        "    if pointObj(ligneDepart,colonneDepart):\n",
        "        return \"Vous etes dans le point d'arrivée\"\n",
        "    else :\n",
        "        ligneCourante,colonneCourante=ligneDepart,colonneDepart\n",
        "        chemin=[]\n",
        "        #ajouter les coordonnées du point courat au chemin\n",
        "        chemin.append([ligneCourante,colonneCourante])\n",
        "        while not pointObj(ligneCourante,colonneCourante):\n",
        "            #prendre la meilleur action, on donne à epsilon 1 car on veut l'emploit \n",
        "            indiceAction=actionSuivante(ligneCourante,colonneCourante,1.)\n",
        "            #chercher la position suivante\n",
        "            ligneCourante,colonneCourante=positionSuivante(ligneCourante,colonneCourante,indiceAction)\n",
        "            chemin.append([ligneCourante,colonneCourante])\n",
        "        return chemin"
      ]
    },
    {
      "cell_type": "code",
      "execution_count": null,
      "id": "f2a3a5ca",
      "metadata": {
        "id": "f2a3a5ca"
      },
      "outputs": [],
      "source": [
        "# epsilon=0.9\n",
        "# facteurReduction=0.9\n",
        "# tauxAprentissage=0.9\n",
        "# for i in range(1000):\n",
        "#     #on donne au robot un point de depart aléatoirement\n",
        "#     ligne,colonne=pointDeDepart()\n",
        "#     #Améliorer la table q jusqu'a trouver l'objectif'\n",
        "#     while not pointObj(ligne,colonne):\n",
        "#         action=actionSuivante(ligne,colonne,epsilon)\n",
        "#         ancienneLigne,ancienneColonne=ligne,colonne\n",
        "#         ligne,colonne=positionSuivante(ligne,colonne,action)\n",
        "#         bonus=R[ligne,colonne]\n",
        "#         ancienneQvaleur=Q[ancienneLigne,ancienneColonne,action]\n",
        "#         #mise à jour de la table q\n",
        "#         #utilisation de l'équation de bellman\n",
        "#         nouvelleQvaleur=ancienneQvaleur+(tauxAprentissage *bonus+(facteurReduction*np.max(Q[ligne,colonne]))-ancienneQvaleur)\n",
        "#         Q[ancienneLigne,ancienneColonne,action]=nouvelleQvaleur\n",
        "epsilon=0.9\n",
        "gamma=0.7\n",
        "for i in range(1000):\n",
        "    #on donne au robot un point de depart aléatoirement\n",
        "    ligne,colonne=pointDeDepart()\n",
        "    #Améliorer la table q jusqu'a trouver l'objectif'\n",
        "    while not pointObj(ligne,colonne):\n",
        "        action=actionSuivante(ligne,colonne,epsilon)\n",
        "        ancienneLigne,ancienneColonne=ligne,colonne\n",
        "        ligne,colonne=positionSuivante(ligne,colonne,action)\n",
        "        bonus=R[ligne,colonne]\n",
        "        ancienneQvaleur=Q[ancienneLigne,ancienneColonne,action]\n",
        "        #mise à jour de la table q\n",
        "        #utilisation de l'équation de bellman\n",
        "        r = R[ligne, colonne]\n",
        "        nouvelleQvaleur = r + (gamma * np.max(Q[ligne, colonne]))\n",
        "        # nouvelleQvaleur=ancienneQvaleur+(tauxAprentissage *bonus+(facteurReduction*np.max(Q[ligne,colonne]))-ancienneQvaleur)\n",
        "        Q[ancienneLigne,ancienneColonne,action]=nouvelleQvaleur"
      ]
    },
    {
      "cell_type": "code",
      "execution_count": null,
      "id": "f106c57b",
      "metadata": {
        "colab": {
          "base_uri": "https://localhost:8080/"
        },
        "id": "f106c57b",
        "outputId": "9a117d25-a0be-4440-d16c-046b7a1285eb"
      },
      "outputs": [
        {
          "output_type": "execute_result",
          "data": {
            "text/plain": [
              "array([[[  0.256,   0.567,   0.   ,   0.   ],\n",
              "        [  0.564,   0.697,   0.485,   0.475],\n",
              "        [  0.3  ,   0.867,   0.86 ,   0.567],\n",
              "        [  0.86 ,   1.109,   1.1  ,   0.696],\n",
              "        [  1.1  ,  -8.678,   1.442,   0.86 ],\n",
              "        [-10.   ,  -8.293,   1.891,   0.   ],\n",
              "        [-10.   ,   2.481,   0.   ,   0.   ],\n",
              "        [  0.457,   3.387,   1.827,  -9.923],\n",
              "        [  0.367,   4.584,   4.681,   2.459],\n",
              "        [  4.584,   4.584,   6.391,   3.356]],\n",
              "\n",
              "       [[  0.475,   0.487,   0.379,   0.   ],\n",
              "        [  0.568,   0.   ,   0.307,   0.   ],\n",
              "        [  0.692,   1.109,   0.   ,   0.485],\n",
              "        [  0.86 ,   1.442,   1.428,   0.86 ],\n",
              "        [  1.108,   1.893,   1.903,   1.108],\n",
              "        [ -8.689,   2.512,   2.547,   1.428],\n",
              "        [ -9.723,   1.827,   3.453,   1.869],\n",
              "        [  2.459,   4.681,   0.493,   1.399],\n",
              "        [  3.387,   6.391,   6.515,   1.827],\n",
              "        [  0.683,   6.391,   8.959,   4.594]],\n",
              "\n",
              "       [[  0.421,   0.   ,   0.   ,   0.   ],\n",
              "        [  0.397,   0.   ,   0.721,   0.   ],\n",
              "        [  0.86 ,   1.442,   0.347,   0.591],\n",
              "        [  1.1  ,   1.903,  -8.993,   1.1  ],\n",
              "        [  1.442,   2.547,  -8.668,   1.442],\n",
              "        [  1.893,   3.417,   3.467,   1.903],\n",
              "        [  2.512,   4.686,   4.753,   2.507],\n",
              "        [  1.827,   6.411,   6.566,   3.417],\n",
              "        [  4.638,   8.959,   9.108,   4.686],\n",
              "        [  6.391,   8.959,  12.599,   6.454]],\n",
              "\n",
              "       [[  0.379,   0.72 ,   0.   ,   0.   ],\n",
              "        [  0.594,   0.887,   0.614,   0.591],\n",
              "        [  1.109,  -8.991,   0.741,   0.716],\n",
              "        [  1.442,   0.   ,   0.   ,   0.88 ],\n",
              "        [  1.903,   0.   ,   0.   ,  -9.   ],\n",
              "        [  2.547,   4.753,   2.587,  -8.668],\n",
              "        [  3.457,   6.556,   6.576,   3.467],\n",
              "        [  4.73 ,   9.02 ,   9.152,   4.696],\n",
              "        [  6.454,  12.599,  12.783,   6.495],\n",
              "        [  8.959,  12.599,  17.755,   9.108]],\n",
              "\n",
              "       [[  0.355,   0.614,   0.469,   0.528],\n",
              "        [  0.721,   0.   ,   0.538,   0.53 ],\n",
              "        [  0.887,   0.   ,   0.   ,   0.475],\n",
              "        [ -9.874,   1.949,   0.   ,   0.   ],\n",
              "        [ -9.707,   2.587,   1.54 ,   0.   ],\n",
              "        [  3.467,   0.   ,   1.971,   1.931],\n",
              "        [  4.747,   9.152,   4.803,   2.584],\n",
              "        [  6.556,  12.783,  12.803,   6.566],\n",
              "        [  9.108,  17.755,  17.975,   9.138],\n",
              "        [ 12.599,  17.755,  25.079,  12.783]],\n",
              "\n",
              "       [[  0.53 ,   0.54 ,   0.   ,   0.471],\n",
              "        [  0.614,   0.   ,   0.   ,   0.   ],\n",
              "        [  0.741,   0.   ,   0.   ,   0.   ],\n",
              "        [  0.   ,   2.64 ,   0.731,   0.43 ],\n",
              "        [  1.931,   3.542,   2.001,   1.198],\n",
              "        [  2.559,   4.803,  -9.126,   2.615],\n",
              "        [  6.576,   0.   ,  -9.86 ,   3.542],\n",
              "        [  9.152,  17.975,   9.242,   4.803],\n",
              "        [ 12.783,  25.079,  25.336,  12.803],\n",
              "        [ 17.755,  25.079,  35.47 ,  17.975]],\n",
              "\n",
              "       [[  0.471,   0.427,   0.417,   0.439],\n",
              "        [  0.362,   0.   ,   0.   ,   0.44 ],\n",
              "        [  0.12 ,   4.761,   0.   ,   0.   ],\n",
              "        [  1.218,   2.001,   6.587,   0.   ],\n",
              "        [  2.64 ,  -9.645,   0.792,   1.55 ],\n",
              "        [  0.507,   0.   ,  12.845,   2.015],\n",
              "        [  4.803,   0.   ,   0.   ,   0.   ],\n",
              "        [ 12.803,   0.   ,   0.   ,   0.   ],\n",
              "        [ 17.975,  35.47 ,  35.737,   9.242],\n",
              "        [ 25.079,  35.47 ,  50.2  ,  25.336]],\n",
              "\n",
              "       [[  0.44 ,   0.   ,   0.   ,   0.   ],\n",
              "        [  0.12 ,   4.751,   2.532,   0.417],\n",
              "        [  3.463,   6.587,   3.468,   3.434],\n",
              "        [  4.761,   9.182,   4.799,   4.751],\n",
              "        [  2.015,  12.845,   6.627,   6.587],\n",
              "        [ -8.6  ,  18.036,   9.232,   9.182],\n",
              "        [ -6.638,  25.366,  12.945,  12.845],\n",
              "        [  9.242,  35.737,  35.737,  18.036],\n",
              "        [ 25.336,  50.2  ,  50.41 ,  25.366],\n",
              "        [ 35.47 ,  50.2  ,  71.   ,  35.737]],\n",
              "\n",
              "       [[  0.27 ,   2.532,   0.46 ,   0.501],\n",
              "        [  3.446,   0.   ,   1.892,   1.882],\n",
              "        [  0.733,   4.799,   2.576,   2.532],\n",
              "        [  6.587,   6.627,   0.17 ,   0.646],\n",
              "        [  9.182,   0.   ,   4.899,   4.799],\n",
              "        [ 12.845,   0.784,   6.712,   0.59 ],\n",
              "        [ 18.036,   0.   ,   0.   ,   9.232],\n",
              "        [ 25.366,  50.41 ,  25.516,   3.91 ],\n",
              "        [ 35.737,  71.   ,  71.   ,  35.737],\n",
              "        [ 50.2  ,  71.   , 100.   ,  50.41 ]],\n",
              "\n",
              "       [[  1.882,   0.   ,   0.   ,   0.   ],\n",
              "        [  2.532,   2.576,   1.892,   0.   ],\n",
              "        [  3.499,   0.   ,   0.   ,   1.892],\n",
              "        [  4.799,   0.   ,   0.   ,   2.576],\n",
              "        [  0.2  ,   6.712,   0.34 ,   0.   ],\n",
              "        [  9.232,   0.   ,   6.712,   4.899],\n",
              "        [ 12.945,   0.   ,   0.   ,   0.   ],\n",
              "        [ 35.737,   0.   ,   0.   ,   0.   ],\n",
              "        [ 50.41 , 100.   ,   0.   ,   0.   ],\n",
              "        [  0.   ,   0.   ,   0.   ,   0.   ]]])"
            ]
          },
          "metadata": {},
          "execution_count": 13
        }
      ],
      "source": [
        "Q=np.round(Q, 3)\n",
        "Q"
      ]
    },
    {
      "cell_type": "code",
      "source": [
        "def visualisation(chemin,depart):\n",
        "    x ,y = depart\n",
        "    fig,ax = plt.subplots(figsize=(15,10))\n",
        "    ax.set_xticks(np.arange(0,10))\n",
        "    ax.set_yticks(np.arange(0,10))\n",
        "\n",
        "    chemin = np.array(chemin)\n",
        "\n",
        "    plt.xlim([0,10])\n",
        "    plt.ylim([10,0])\n",
        "\n",
        "    ax.grid(visible=True,linewidth=2)\n",
        "    ax.xaxis.tick_top()\n",
        "    if chemin is not None:\n",
        "        ax.plot(chemin[:,1] + 0.3,chemin[:,0] + 0.3,c='black')\n",
        "\n",
        "    for i in range(10):\n",
        "        for j in range(10):\n",
        "            if plan[i][j] == 1:\n",
        "                rect = patches.Rectangle((j,i), 1, 1, linewidth=1, edgecolor='r', facecolor='r')\n",
        "                # cir = plt.Circle((j, i), 0.4, color='r')\n",
        "                ax.add_patch(rect)\n",
        "\n",
        "    cir = plt.Circle((10, 10), 0.7, color='g')\n",
        "    ax.add_patch(cir)\n",
        "\n",
        "    rect = patches.Rectangle((x,y), 1, 1, linewidth=1, edgecolor='b', facecolor='b')\n",
        "    cir = plt.Circle((x, y), 0.7, color='b')\n",
        "    ax.add_patch(cir)\n",
        "\n",
        "    plt.show()\n"
      ],
      "metadata": {
        "id": "-FPgZZ3A3Xj0"
      },
      "id": "-FPgZZ3A3Xj0",
      "execution_count": null,
      "outputs": []
    },
    {
      "cell_type": "code",
      "source": [
        "print(\"le plus court chemin de (0,0) pour atteindre l'objectif (9,9) est\\n\")\n",
        "print(courtChemin(0,0))\n",
        "print(\"\\nle plus court chemin de (3,0) pour atteindre l'objectif (9,9) est\\n\")\n",
        "print(courtChemin(1,5))"
      ],
      "metadata": {
        "colab": {
          "base_uri": "https://localhost:8080/"
        },
        "id": "0sV2sMxw3Y5r",
        "outputId": "e54fea96-4308-49fd-f4ac-4bff911054b5"
      },
      "id": "0sV2sMxw3Y5r",
      "execution_count": null,
      "outputs": [
        {
          "output_type": "stream",
          "name": "stdout",
          "text": [
            "le plus court chemin de (0,0) pour atteindre l'objectif (9,9) est\n",
            "\n",
            "[[0, 0], [0, 1], [0, 2], [0, 3], [0, 4], [1, 4], [2, 4], [2, 5], [3, 5], [3, 6], [4, 6], [4, 7], [5, 7], [5, 8], [6, 8], [7, 8], [8, 8], [8, 9], [9, 9]]\n",
            "\n",
            "le plus court chemin de (3,0) pour atteindre l'objectif (9,9) est\n",
            "\n",
            "[[1, 5], [2, 5], [3, 5], [3, 6], [4, 6], [4, 7], [5, 7], [5, 8], [6, 8], [7, 8], [8, 8], [8, 9], [9, 9]]\n"
          ]
        }
      ]
    },
    {
      "cell_type": "code",
      "source": [
        "depart1 =0,0\n",
        "print(\"\\n Le départ \",depart1,\" à (9,9) \\n\")\n",
        "visualisation(courtChemin(depart1[0],depart1[1]),depart1)\n",
        "\n",
        "depart2 =1,5\n",
        "print(\"\\n Le départ \",depart2,\" à (9,9) \\n\")\n",
        "visualisation(courtChemin(depart2[1],depart2[0]),depart2)\n",
        "\n"
      ],
      "metadata": {
        "colab": {
          "base_uri": "https://localhost:8080/",
          "height": 1000
        },
        "id": "JYc8ibwN3tNM",
        "outputId": "2d73403a-f44a-4bdd-bec9-f2a4ffe5970c"
      },
      "id": "JYc8ibwN3tNM",
      "execution_count": null,
      "outputs": [
        {
          "output_type": "stream",
          "name": "stdout",
          "text": [
            "\n",
            " Le départ  (0, 0)  à (9,9) \n",
            "\n"
          ]
        },
        {
          "output_type": "display_data",
          "data": {
            "text/plain": [
              "<Figure size 1080x720 with 1 Axes>"
            ],
            "image/png": "[encoded data removed]"
          },
          "metadata": {
            "needs_background": "light"
          }
        },
        {
          "output_type": "stream",
          "name": "stdout",
          "text": [
            "\n",
            " Le départ  (1, 5)  à (9,9) \n",
            "\n"
          ]
        },
        {
          "output_type": "display_data",
          "data": {
            "text/plain": [
              "<Figure size 1080x720 with 1 Axes>"
            ],
            "image/png": "[encoded data removed]"
          },
          "metadata": {
            "needs_background": "light"
          }
        }
      ]
    }
  ],
  "metadata": {
    "kernelspec": {
      "display_name": "Python 3 (ipykernel)",
      "language": "python",
      "name": "python3"
    },
    "language_info": {
      "codemirror_mode": {
        "name": "ipython",
        "version": 3
      },
      "file_extension": ".py",
      "mimetype": "text/x-python",
      "name": "python",
      "nbconvert_exporter": "python",
      "pygments_lexer": "ipython3",
      "version": "3.9.7"
    },
    "colab": {
      "provenance": [],
      "include_colab_link": true
    },
    "gpuClass": "standard"
  },
  "nbformat": 4,
  "nbformat_minor": 5
}